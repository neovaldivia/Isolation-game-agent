{
 "cells": [
  {
   "cell_type": "code",
   "execution_count": 22,
   "metadata": {
    "collapsed": false,
    "deletable": true,
    "editable": true
   },
   "outputs": [
    {
     "name": "stdout",
     "output_type": "stream",
     "text": [
      "     0   1   2   3   4\n",
      "\r",
      "0  |   |   |   |   |   | \n",
      "\r",
      "1  |   |   |   |   |   | \n",
      "\r",
      "2  |   |   |   | 1 |   | \n",
      "\r",
      "3  |   |   |   |   |   | \n",
      "\r",
      "4  |   |   |   |   |   | \n",
      "\r\n",
      "-7655051894059818469\n"
     ]
    },
    {
     "ename": "AttributeError",
     "evalue": "'Board' object has no attribute 'board_to_matrix'",
     "output_type": "error",
     "traceback": [
      "\u001b[1;31m---------------------------------------------------------------------------\u001b[0m",
      "\u001b[1;31mAttributeError\u001b[0m                            Traceback (most recent call last)",
      "\u001b[1;32m<ipython-input-22-41cd902c3060>\u001b[0m in \u001b[0;36m<module>\u001b[1;34m()\u001b[0m\n\u001b[0;32m     16\u001b[0m \u001b[1;33m\u001b[0m\u001b[0m\n\u001b[0;32m     17\u001b[0m \u001b[0mprint\u001b[0m\u001b[1;33m(\u001b[0m\u001b[0mgame\u001b[0m\u001b[1;33m.\u001b[0m\u001b[0mhash\u001b[0m\u001b[1;33m(\u001b[0m\u001b[1;33m)\u001b[0m\u001b[1;33m)\u001b[0m\u001b[1;33m\u001b[0m\u001b[0m\n\u001b[1;32m---> 18\u001b[1;33m \u001b[0mprint\u001b[0m\u001b[1;33m(\u001b[0m\u001b[0mgame\u001b[0m\u001b[1;33m.\u001b[0m\u001b[0mboard_to_matrix\u001b[0m\u001b[1;33m(\u001b[0m\u001b[1;33m)\u001b[0m\u001b[1;33m)\u001b[0m\u001b[1;33m\u001b[0m\u001b[0m\n\u001b[0m\u001b[0;32m     19\u001b[0m \u001b[1;33m\u001b[0m\u001b[0m\n\u001b[0;32m     20\u001b[0m \u001b[1;31m# players take turns moving on the board, so player1 should be next to move\u001b[0m\u001b[1;33m\u001b[0m\u001b[1;33m\u001b[0m\u001b[0m\n",
      "\u001b[1;31mAttributeError\u001b[0m: 'Board' object has no attribute 'board_to_matrix'"
     ]
    }
   ],
   "source": [
    "from isolation import Board\n",
    "from sample_players import *\n",
    "from game_agent import *\n",
    "\n",
    "# create an isolation board (by default 7x7)\n",
    "player1 = GreedyPlayer()\n",
    "player2 = AlphaBetaPlayer()\n",
    "game = Board(player1, player2, 5, 5)\n",
    "\n",
    "# place player 1 on the board at row 2, column 3, then place player 2 on\n",
    "# the board at row 0, column 5; display the resulting board state.  Note\n",
    "# that the .apply_move() method changes the calling object in-place.\n",
    "game.apply_move((2, 3))\n",
    "game.apply_move((0, 5))\n",
    "print(game.to_string())\n",
    "\n",
    "print(game.hash())\n",
    "print(game.board_to_matrix())\n",
    "\n",
    "# players take turns moving on the board, so player1 should be next to move\n",
    "assert(player1 == game.active_player)\n",
    "\n",
    "# get a list of the legal moves available to the active player\n",
    "print(game.get_legal_moves())\n",
    "# player1.minimax_score(game, 1)\n",
    "\n",
    "# get a successor of the current state by making a copy of the board and\n",
    "# applying a move. Notice that this does NOT change the calling object\n",
    "# (unlike .apply_move()).\n",
    "new_game = game.forecast_move((1, 1))\n",
    "assert(new_game.to_string() != game.to_string())\n",
    "print(\"\\nOld state:\\n{}\".format(game.to_string()))\n",
    "print(\"\\nNew state:\\n{}\".format(new_game.to_string()))\n",
    "\n",
    "# play the remainder of the game automatically -- outcome can be \"illegal\n",
    "# move\", \"timeout\", or \"forfeit\"\n",
    "winner, history, outcome = game.play()\n",
    "print(\"\\nWinner: {}\\nOutcome: {}\".format(winner, outcome))\n",
    "print(game.to_string())\n",
    "print(\"Move history:\\n{!s}\".format(history))\n",
    "\n"
   ]
  },
  {
   "cell_type": "code",
   "execution_count": null,
   "metadata": {
    "collapsed": true,
    "deletable": true,
    "editable": true
   },
   "outputs": [],
   "source": [
    "  return float(-(sum(opp_location) - sum(own_location))**2)"
   ]
  }
 ],
 "metadata": {
  "kernelspec": {
   "display_name": "Python 3",
   "language": "python",
   "name": "python3"
  },
  "language_info": {
   "codemirror_mode": {
    "name": "ipython",
    "version": 3
   },
   "file_extension": ".py",
   "mimetype": "text/x-python",
   "name": "python",
   "nbconvert_exporter": "python",
   "pygments_lexer": "ipython3",
   "version": "3.6.0"
  }
 },
 "nbformat": 4,
 "nbformat_minor": 2
}
